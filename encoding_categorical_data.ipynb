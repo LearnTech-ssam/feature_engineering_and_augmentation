{
 "cells": [
  {
   "cell_type": "markdown",
   "id": "221a9f71",
   "metadata": {},
   "source": [
    "# Load packages and create data"
   ]
  },
  {
   "cell_type": "code",
   "execution_count": 1,
   "id": "99c0a844",
   "metadata": {},
   "outputs": [],
   "source": [
    "## run this if you haven't already downloaded the packages\n",
    "\n",
    "## this download the packages from the requirements.txt file\n",
    "# pip install -r requirements.txt\n",
    "\n",
    "## this will download the latest version of the packages which may not match the versions in the requirements.txt file\n",
    "# pip install ipykernel pandas scikit-learn"
   ]
  },
  {
   "cell_type": "code",
   "execution_count": 2,
   "id": "d25dbd94",
   "metadata": {},
   "outputs": [],
   "source": [
    "import pandas as pd\n",
    "from sklearn.preprocessing import OneHotEncoder"
   ]
  },
  {
   "cell_type": "code",
   "execution_count": 3,
   "id": "69a335b5",
   "metadata": {},
   "outputs": [
    {
     "name": "stdout",
     "output_type": "stream",
     "text": [
      "There are 10 rows and 4 columns in the dataframe:\n",
      "\n",
      "- The Purchased column is the target variable.\n",
      "\n",
      "- The other columns are the features.\n",
      "\n",
      "-- Age is a numerical feature.\n",
      "\n",
      "-- Gender is a nominal feature.\n",
      "\n",
      "-- Education and Review are ordinal features.\n"
     ]
    },
    {
     "data": {
      "text/html": [
       "<div>\n",
       "<style scoped>\n",
       "    .dataframe tbody tr th:only-of-type {\n",
       "        vertical-align: middle;\n",
       "    }\n",
       "\n",
       "    .dataframe tbody tr th {\n",
       "        vertical-align: top;\n",
       "    }\n",
       "\n",
       "    .dataframe thead th {\n",
       "        text-align: right;\n",
       "    }\n",
       "</style>\n",
       "<table border=\"1\" class=\"dataframe\">\n",
       "  <thead>\n",
       "    <tr style=\"text-align: right;\">\n",
       "      <th></th>\n",
       "      <th>Age</th>\n",
       "      <th>Gender</th>\n",
       "      <th>Education</th>\n",
       "      <th>Review</th>\n",
       "      <th>Purchased</th>\n",
       "    </tr>\n",
       "  </thead>\n",
       "  <tbody>\n",
       "    <tr>\n",
       "      <th>0</th>\n",
       "      <td>30</td>\n",
       "      <td>Female</td>\n",
       "      <td>School</td>\n",
       "      <td>Average</td>\n",
       "      <td>No</td>\n",
       "    </tr>\n",
       "    <tr>\n",
       "      <th>1</th>\n",
       "      <td>68</td>\n",
       "      <td>Female</td>\n",
       "      <td>UG</td>\n",
       "      <td>Poor</td>\n",
       "      <td>No</td>\n",
       "    </tr>\n",
       "    <tr>\n",
       "      <th>2</th>\n",
       "      <td>70</td>\n",
       "      <td>Female</td>\n",
       "      <td>PG</td>\n",
       "      <td>Good</td>\n",
       "      <td>No</td>\n",
       "    </tr>\n",
       "    <tr>\n",
       "      <th>3</th>\n",
       "      <td>72</td>\n",
       "      <td>Female</td>\n",
       "      <td>PG</td>\n",
       "      <td>Good</td>\n",
       "      <td>No</td>\n",
       "    </tr>\n",
       "    <tr>\n",
       "      <th>4</th>\n",
       "      <td>16</td>\n",
       "      <td>Female</td>\n",
       "      <td>UG</td>\n",
       "      <td>Average</td>\n",
       "      <td>No</td>\n",
       "    </tr>\n",
       "    <tr>\n",
       "      <th>5</th>\n",
       "      <td>31</td>\n",
       "      <td>Female</td>\n",
       "      <td>School</td>\n",
       "      <td>Average</td>\n",
       "      <td>Yes</td>\n",
       "    </tr>\n",
       "    <tr>\n",
       "      <th>6</th>\n",
       "      <td>18</td>\n",
       "      <td>Male</td>\n",
       "      <td>School</td>\n",
       "      <td>Good</td>\n",
       "      <td>Yes</td>\n",
       "    </tr>\n",
       "    <tr>\n",
       "      <th>7</th>\n",
       "      <td>60</td>\n",
       "      <td>Female</td>\n",
       "      <td>School</td>\n",
       "      <td>Poor</td>\n",
       "      <td>Yes</td>\n",
       "    </tr>\n",
       "    <tr>\n",
       "      <th>8</th>\n",
       "      <td>65</td>\n",
       "      <td>Female</td>\n",
       "      <td>UG</td>\n",
       "      <td>Average</td>\n",
       "      <td>Yes</td>\n",
       "    </tr>\n",
       "    <tr>\n",
       "      <th>9</th>\n",
       "      <td>74</td>\n",
       "      <td>Male</td>\n",
       "      <td>UG</td>\n",
       "      <td>Good</td>\n",
       "      <td>Yes</td>\n",
       "    </tr>\n",
       "  </tbody>\n",
       "</table>\n",
       "</div>"
      ],
      "text/plain": [
       "   Age  Gender Education   Review Purchased\n",
       "0   30  Female    School  Average        No\n",
       "1   68  Female        UG     Poor        No\n",
       "2   70  Female        PG     Good        No\n",
       "3   72  Female        PG     Good        No\n",
       "4   16  Female        UG  Average        No\n",
       "5   31  Female    School  Average       Yes\n",
       "6   18    Male    School     Good       Yes\n",
       "7   60  Female    School     Poor       Yes\n",
       "8   65  Female        UG  Average       Yes\n",
       "9   74    Male        UG     Good       Yes"
      ]
     },
     "execution_count": 3,
     "metadata": {},
     "output_type": "execute_result"
    }
   ],
   "source": [
    "data = [\n",
    "    {\"Age\": 30, \"Gender\": \"Female\", \"Education\": \"School\", \"Review\": \"Average\", \"Purchased\": \"No\"},\n",
    "    {\"Age\": 68, \"Gender\": \"Female\", \"Education\": \"UG\", \"Review\": \"Poor\", \"Purchased\": \"No\"},\n",
    "    {\"Age\": 70, \"Gender\": \"Female\", \"Education\": \"PG\", \"Review\": \"Good\", \"Purchased\": \"No\"},\n",
    "    {\"Age\": 72, \"Gender\": \"Female\", \"Education\": \"PG\", \"Review\": \"Good\", \"Purchased\": \"No\"},\n",
    "    {\"Age\": 16, \"Gender\": \"Female\", \"Education\": \"UG\", \"Review\": \"Average\", \"Purchased\": \"No\"},\n",
    "    {\"Age\": 31, \"Gender\": \"Female\", \"Education\": \"School\", \"Review\": \"Average\", \"Purchased\": \"Yes\"},\n",
    "    {\"Age\": 18, \"Gender\": \"Male\", \"Education\": \"School\", \"Review\": \"Good\", \"Purchased\": \"Yes\"},\n",
    "    {\"Age\": 60, \"Gender\": \"Female\", \"Education\": \"School\", \"Review\": \"Poor\", \"Purchased\": \"Yes\"},\n",
    "    {\"Age\": 65, \"Gender\": \"Female\", \"Education\": \"UG\", \"Review\": \"Average\", \"Purchased\": \"Yes\"},\n",
    "    {\"Age\": 74, \"Gender\": \"Male\", \"Education\": \"UG\", \"Review\": \"Good\", \"Purchased\": \"Yes\"}\n",
    "]\n",
    "\n",
    "df = pd.DataFrame(data)\n",
    "\n",
    "print(\"\"\"There are 10 rows and 4 columns in the dataframe:\n",
    "      \n",
    "- The Purchased column is the target variable.\n",
    "      \n",
    "- The other columns are the features.\n",
    "      \n",
    "-- Age is a numerical feature.\n",
    "      \n",
    "-- Gender is a nominal feature.\n",
    "      \n",
    "-- Education and Review are ordinal features.\"\"\")\n",
    "\n",
    "df"
   ]
  },
  {
   "cell_type": "markdown",
   "id": "e7d4adb2",
   "metadata": {},
   "source": [
    "# Encoding categorical data\n",
    "\n",
    "* Remember - categorical data is data that is nominal (no order, e.g. gender, ice cream flavour) or ordinal (has order, e.g. customer satisfaction, shoe size, salary banding)\n",
    "\n",
    "* Mathematical algorithms can only work with numbers. We need to convert any categorical data into numerical format so that our models can use it.\n",
    "\n",
    "* There are multiple methods to encode categorical data (convert it to numerical). We will focus on label encoding, one-hot encoding and ordinal encoding. \n",
    "\n",
    "Sources of inspiration:\n",
    "- https://www.kaggle.com/code/ybifoundation/encoding/notebook\n",
    "- https://www.kdnuggets.com/crack-the-code-mastering-category-encoders-for-data-scientists"
   ]
  },
  {
   "cell_type": "markdown",
   "id": "d6622dfc",
   "metadata": {},
   "source": [
    "## Label encoding\n",
    "\n",
    "Here, we replace the distinct values with something else that is numerical.\n",
    "\n",
    "For example, we will use:\n",
    "\n",
    "| Original Purchased value | Map to |\n",
    "|-|-|\n",
    "| No | 0 |\n",
    "| Yes | 1 |"
   ]
  },
  {
   "cell_type": "code",
   "execution_count": 4,
   "id": "d11d40ce",
   "metadata": {},
   "outputs": [
    {
     "name": "stdout",
     "output_type": "stream",
     "text": [
      "Before label encoding:\n"
     ]
    },
    {
     "data": {
      "text/plain": [
       "0     No\n",
       "1     No\n",
       "2     No\n",
       "3     No\n",
       "4     No\n",
       "5    Yes\n",
       "6    Yes\n",
       "7    Yes\n",
       "8    Yes\n",
       "9    Yes\n",
       "Name: Purchased, dtype: object"
      ]
     },
     "execution_count": 4,
     "metadata": {},
     "output_type": "execute_result"
    }
   ],
   "source": [
    "# This is the target variable\n",
    "\n",
    "print(\"Before label encoding:\")\n",
    "y = df['Purchased']\n",
    "\n",
    "y\n"
   ]
  },
  {
   "cell_type": "code",
   "execution_count": 14,
   "id": "b4f11ca4",
   "metadata": {},
   "outputs": [
    {
     "name": "stdout",
     "output_type": "stream",
     "text": [
      "After label encoding:\n"
     ]
    },
    {
     "data": {
      "text/plain": [
       "0    0\n",
       "1    0\n",
       "2    0\n",
       "3    0\n",
       "4    0\n",
       "5    1\n",
       "6    1\n",
       "7    1\n",
       "8    1\n",
       "9    1\n",
       "Name: Purchased, dtype: int64"
      ]
     },
     "execution_count": 14,
     "metadata": {},
     "output_type": "execute_result"
    }
   ],
   "source": [
    "# Before this code is run, what do you think the output will be?\n",
    "\n",
    "print(\"After label encoding:\")\n",
    "y_encoded = y.map({'No': 0, 'Yes': 1})\n",
    "y_encoded"
   ]
  },
  {
   "cell_type": "markdown",
   "id": "b336fb3e",
   "metadata": {},
   "source": [
    "## One-hot encoding (for nominal data)\n",
    "\n",
    "Here, each value becomes its own column.\n",
    "\n",
    "A 0 in the column represents that this feature does not apply for the data row.\n",
    "\n",
    "A 1 in the column represents that this feature does apply.\n",
    "\n",
    "For example, for the Gender columns, the values \"Male\" and \"Female\" can become their own columns, see below."
   ]
  },
  {
   "cell_type": "code",
   "execution_count": 6,
   "id": "604fb84c",
   "metadata": {},
   "outputs": [
    {
     "name": "stdout",
     "output_type": "stream",
     "text": [
      "Before one-hot encoding:\n"
     ]
    },
    {
     "data": {
      "text/html": [
       "<div>\n",
       "<style scoped>\n",
       "    .dataframe tbody tr th:only-of-type {\n",
       "        vertical-align: middle;\n",
       "    }\n",
       "\n",
       "    .dataframe tbody tr th {\n",
       "        vertical-align: top;\n",
       "    }\n",
       "\n",
       "    .dataframe thead th {\n",
       "        text-align: right;\n",
       "    }\n",
       "</style>\n",
       "<table border=\"1\" class=\"dataframe\">\n",
       "  <thead>\n",
       "    <tr style=\"text-align: right;\">\n",
       "      <th></th>\n",
       "      <th>Gender</th>\n",
       "    </tr>\n",
       "  </thead>\n",
       "  <tbody>\n",
       "    <tr>\n",
       "      <th>0</th>\n",
       "      <td>Female</td>\n",
       "    </tr>\n",
       "    <tr>\n",
       "      <th>1</th>\n",
       "      <td>Female</td>\n",
       "    </tr>\n",
       "    <tr>\n",
       "      <th>2</th>\n",
       "      <td>Female</td>\n",
       "    </tr>\n",
       "    <tr>\n",
       "      <th>3</th>\n",
       "      <td>Female</td>\n",
       "    </tr>\n",
       "    <tr>\n",
       "      <th>4</th>\n",
       "      <td>Female</td>\n",
       "    </tr>\n",
       "    <tr>\n",
       "      <th>5</th>\n",
       "      <td>Female</td>\n",
       "    </tr>\n",
       "    <tr>\n",
       "      <th>6</th>\n",
       "      <td>Male</td>\n",
       "    </tr>\n",
       "    <tr>\n",
       "      <th>7</th>\n",
       "      <td>Female</td>\n",
       "    </tr>\n",
       "    <tr>\n",
       "      <th>8</th>\n",
       "      <td>Female</td>\n",
       "    </tr>\n",
       "    <tr>\n",
       "      <th>9</th>\n",
       "      <td>Male</td>\n",
       "    </tr>\n",
       "  </tbody>\n",
       "</table>\n",
       "</div>"
      ],
      "text/plain": [
       "   Gender\n",
       "0  Female\n",
       "1  Female\n",
       "2  Female\n",
       "3  Female\n",
       "4  Female\n",
       "5  Female\n",
       "6    Male\n",
       "7  Female\n",
       "8  Female\n",
       "9    Male"
      ]
     },
     "execution_count": 6,
     "metadata": {},
     "output_type": "execute_result"
    }
   ],
   "source": [
    "# This is the nominal column Gender\n",
    "\n",
    "print(\"Before one-hot encoding:\")\n",
    "nominal_gender_col = df[['Gender']]\n",
    "\n",
    "nominal_gender_col"
   ]
  },
  {
   "cell_type": "code",
   "execution_count": 15,
   "id": "a7bcc92a",
   "metadata": {},
   "outputs": [
    {
     "name": "stdout",
     "output_type": "stream",
     "text": [
      "After one-hot encoding:\n",
      "\n",
      "- Left column of array is the first value in the column, so here it represents female. Be careful with this!!\n",
      "- The other column represents male.\n",
      "\n",
      "Female | Male\n",
      "[[1 0]\n",
      " [1 0]\n",
      " [1 0]\n",
      " [1 0]\n",
      " [1 0]\n",
      " [1 0]\n",
      " [0 1]\n",
      " [1 0]\n",
      " [1 0]\n",
      " [0 1]]\n"
     ]
    }
   ],
   "source": [
    "# Before this code is run, what do you think the output will be?\n",
    "\n",
    "# setup the one-hot encoder\n",
    "# see the documentation for the parameter https://scikit-learn.org/stable/modules/generated/sklearn.preprocessing.OneHotEncoder.html\n",
    "ohe = OneHotEncoder()\n",
    "nominal_gender_col_encoded = ohe.fit_transform(nominal_gender_col)\n",
    "\n",
    "print(\"\"\"After one-hot encoding:\n",
    "      \n",
    "- Left column of array is the first value in the column, so here it represents female. Be careful with this!!\n",
    "- The other column represents male.\n",
    "\n",
    "Female | Male\"\"\")\n",
    "\n",
    "print(nominal_gender_col_encoded.toarray().astype(int))"
   ]
  },
  {
   "cell_type": "code",
   "execution_count": 16,
   "id": "d9106812",
   "metadata": {},
   "outputs": [
    {
     "data": {
      "text/html": [
       "<div>\n",
       "<style scoped>\n",
       "    .dataframe tbody tr th:only-of-type {\n",
       "        vertical-align: middle;\n",
       "    }\n",
       "\n",
       "    .dataframe tbody tr th {\n",
       "        vertical-align: top;\n",
       "    }\n",
       "\n",
       "    .dataframe thead th {\n",
       "        text-align: right;\n",
       "    }\n",
       "</style>\n",
       "<table border=\"1\" class=\"dataframe\">\n",
       "  <thead>\n",
       "    <tr style=\"text-align: right;\">\n",
       "      <th></th>\n",
       "      <th>Gender_Female</th>\n",
       "      <th>Gender_Male</th>\n",
       "    </tr>\n",
       "  </thead>\n",
       "  <tbody>\n",
       "    <tr>\n",
       "      <th>0</th>\n",
       "      <td>True</td>\n",
       "      <td>False</td>\n",
       "    </tr>\n",
       "    <tr>\n",
       "      <th>1</th>\n",
       "      <td>True</td>\n",
       "      <td>False</td>\n",
       "    </tr>\n",
       "    <tr>\n",
       "      <th>2</th>\n",
       "      <td>True</td>\n",
       "      <td>False</td>\n",
       "    </tr>\n",
       "    <tr>\n",
       "      <th>3</th>\n",
       "      <td>True</td>\n",
       "      <td>False</td>\n",
       "    </tr>\n",
       "    <tr>\n",
       "      <th>4</th>\n",
       "      <td>True</td>\n",
       "      <td>False</td>\n",
       "    </tr>\n",
       "    <tr>\n",
       "      <th>5</th>\n",
       "      <td>True</td>\n",
       "      <td>False</td>\n",
       "    </tr>\n",
       "    <tr>\n",
       "      <th>6</th>\n",
       "      <td>False</td>\n",
       "      <td>True</td>\n",
       "    </tr>\n",
       "    <tr>\n",
       "      <th>7</th>\n",
       "      <td>True</td>\n",
       "      <td>False</td>\n",
       "    </tr>\n",
       "    <tr>\n",
       "      <th>8</th>\n",
       "      <td>True</td>\n",
       "      <td>False</td>\n",
       "    </tr>\n",
       "    <tr>\n",
       "      <th>9</th>\n",
       "      <td>False</td>\n",
       "      <td>True</td>\n",
       "    </tr>\n",
       "  </tbody>\n",
       "</table>\n",
       "</div>"
      ],
      "text/plain": [
       "   Gender_Female  Gender_Male\n",
       "0           True        False\n",
       "1           True        False\n",
       "2           True        False\n",
       "3           True        False\n",
       "4           True        False\n",
       "5           True        False\n",
       "6          False         True\n",
       "7           True        False\n",
       "8           True        False\n",
       "9          False         True"
      ]
     },
     "execution_count": 16,
     "metadata": {},
     "output_type": "execute_result"
    }
   ],
   "source": [
    "# Alternatively, we can use the get_dummies function from pandas to do the same thing\n",
    "\n",
    "nominal_gender_col_encoded = pd.get_dummies(df, columns = ['Gender']).loc[:,['Gender_Female', 'Gender_Male']]\n",
    "nominal_gender_col_encoded"
   ]
  },
  {
   "cell_type": "markdown",
   "id": "0805912f",
   "metadata": {},
   "source": [
    "## Ordinal encoding (for ordinal data)\n",
    "\n",
    "Here, we replace the ordered values with numerical values that represent the distance between the categories.\n",
    "\n",
    "For example, we will use:\n",
    "\n",
    "| Review | Map to |\n",
    "|-|-|\n",
    "| Poor | 0 |\n",
    "| Average | 1 |\n",
    "| Good | 2 |\n",
    "\n",
    "We could change the values to represent the perceived distance between the categories.\n",
    "For example, we may perceive Poor to be further away from Average and Good so we instead we could assign poor = 0, average = 2 and good = 3."
   ]
  },
  {
   "cell_type": "code",
   "execution_count": 9,
   "id": "25152213",
   "metadata": {},
   "outputs": [
    {
     "name": "stdout",
     "output_type": "stream",
     "text": [
      "Before ordinal encoding:\n",
      "The order of the values is: poor < average < good\n"
     ]
    },
    {
     "data": {
      "text/plain": [
       "0    Average\n",
       "1       Poor\n",
       "2       Good\n",
       "3       Good\n",
       "4    Average\n",
       "5    Average\n",
       "6       Good\n",
       "7       Poor\n",
       "8    Average\n",
       "9       Good\n",
       "Name: Review, dtype: object"
      ]
     },
     "execution_count": 9,
     "metadata": {},
     "output_type": "execute_result"
    }
   ],
   "source": [
    "# This is the ordinal column Review\n",
    "\n",
    "print(\"\"\"Before ordinal encoding:\n",
    "The order of the values is: poor < average < good\"\"\")\n",
    "ordinal_review_col = df['Review']\n",
    "\n",
    "ordinal_review_col"
   ]
  },
  {
   "cell_type": "code",
   "execution_count": 17,
   "id": "6311fa11",
   "metadata": {},
   "outputs": [
    {
     "name": "stdout",
     "output_type": "stream",
     "text": [
      "After ordinal encoding:\n"
     ]
    },
    {
     "data": {
      "text/plain": [
       "0    1\n",
       "1    0\n",
       "2    2\n",
       "3    2\n",
       "4    1\n",
       "5    1\n",
       "6    2\n",
       "7    0\n",
       "8    1\n",
       "9    2\n",
       "Name: Review, dtype: int64"
      ]
     },
     "execution_count": 17,
     "metadata": {},
     "output_type": "execute_result"
    }
   ],
   "source": [
    "## Before this code is run, what do you think the output will be?\n",
    "\n",
    "print(\"After ordinal encoding:\")\n",
    "ordinal_review_col_encoded = ordinal_review_col.map({'Poor': 0,\n",
    "                                                     'Average': 1,\n",
    "                                                     'Good': 2})\n",
    "ordinal_review_col_encoded"
   ]
  },
  {
   "cell_type": "markdown",
   "id": "edd9036e",
   "metadata": {},
   "source": [
    "### ! Question: For the Education column, what numerical values would you assign to the categories and why? \n",
    "\n",
    "| Education (Highest education achieved) | Map to? | Map to? | Map to? | Map to? | Map to? |\n",
    "|-|-|-|-|-|-|\n",
    "| No school qualifications | - | - | - | - |-|\n",
    "| School (GCSE or A Level) | 1 | 2 | 0 | 0 | 1 |\n",
    "| Undergraduate (Bachelors) | 2 | 4 | 1 | 3 | 3 |\n",
    "| Postgraduate (Masters) | 3 | 8 | 2 | 7 | 9 |\n",
    "\n",
    "Tips: Start from 0, it reduces computation\n",
    "\n",
    "Tips: If in doubt, increase by same value, e.g. 1 from lowest to highest as the model will still know that school < undergrad < postgrad"
   ]
  },
  {
   "cell_type": "code",
   "execution_count": 11,
   "id": "b07c3bc6",
   "metadata": {},
   "outputs": [
    {
     "data": {
      "text/plain": [
       "Education\n",
       "School    4\n",
       "UG        4\n",
       "PG        2\n",
       "Name: count, dtype: int64"
      ]
     },
     "execution_count": 11,
     "metadata": {},
     "output_type": "execute_result"
    }
   ],
   "source": [
    "ordinal_education_col = df['Education']\n",
    "\n",
    "ordinal_education_col.value_counts()"
   ]
  },
  {
   "cell_type": "markdown",
   "id": "71c168a7",
   "metadata": {},
   "source": [
    "# What our data might look like after encoding the categorical variables (excluding the education column)"
   ]
  },
  {
   "cell_type": "code",
   "execution_count": 12,
   "id": "353b079e",
   "metadata": {},
   "outputs": [
    {
     "name": "stdout",
     "output_type": "stream",
     "text": [
      "Before encoding:\n"
     ]
    },
    {
     "data": {
      "text/html": [
       "<div>\n",
       "<style scoped>\n",
       "    .dataframe tbody tr th:only-of-type {\n",
       "        vertical-align: middle;\n",
       "    }\n",
       "\n",
       "    .dataframe tbody tr th {\n",
       "        vertical-align: top;\n",
       "    }\n",
       "\n",
       "    .dataframe thead th {\n",
       "        text-align: right;\n",
       "    }\n",
       "</style>\n",
       "<table border=\"1\" class=\"dataframe\">\n",
       "  <thead>\n",
       "    <tr style=\"text-align: right;\">\n",
       "      <th></th>\n",
       "      <th>Age</th>\n",
       "      <th>Gender</th>\n",
       "      <th>Review</th>\n",
       "      <th>Purchased</th>\n",
       "    </tr>\n",
       "  </thead>\n",
       "  <tbody>\n",
       "    <tr>\n",
       "      <th>0</th>\n",
       "      <td>30</td>\n",
       "      <td>Female</td>\n",
       "      <td>Average</td>\n",
       "      <td>No</td>\n",
       "    </tr>\n",
       "    <tr>\n",
       "      <th>1</th>\n",
       "      <td>68</td>\n",
       "      <td>Female</td>\n",
       "      <td>Poor</td>\n",
       "      <td>No</td>\n",
       "    </tr>\n",
       "    <tr>\n",
       "      <th>2</th>\n",
       "      <td>70</td>\n",
       "      <td>Female</td>\n",
       "      <td>Good</td>\n",
       "      <td>No</td>\n",
       "    </tr>\n",
       "    <tr>\n",
       "      <th>3</th>\n",
       "      <td>72</td>\n",
       "      <td>Female</td>\n",
       "      <td>Good</td>\n",
       "      <td>No</td>\n",
       "    </tr>\n",
       "    <tr>\n",
       "      <th>4</th>\n",
       "      <td>16</td>\n",
       "      <td>Female</td>\n",
       "      <td>Average</td>\n",
       "      <td>No</td>\n",
       "    </tr>\n",
       "    <tr>\n",
       "      <th>5</th>\n",
       "      <td>31</td>\n",
       "      <td>Female</td>\n",
       "      <td>Average</td>\n",
       "      <td>Yes</td>\n",
       "    </tr>\n",
       "    <tr>\n",
       "      <th>6</th>\n",
       "      <td>18</td>\n",
       "      <td>Male</td>\n",
       "      <td>Good</td>\n",
       "      <td>Yes</td>\n",
       "    </tr>\n",
       "    <tr>\n",
       "      <th>7</th>\n",
       "      <td>60</td>\n",
       "      <td>Female</td>\n",
       "      <td>Poor</td>\n",
       "      <td>Yes</td>\n",
       "    </tr>\n",
       "    <tr>\n",
       "      <th>8</th>\n",
       "      <td>65</td>\n",
       "      <td>Female</td>\n",
       "      <td>Average</td>\n",
       "      <td>Yes</td>\n",
       "    </tr>\n",
       "    <tr>\n",
       "      <th>9</th>\n",
       "      <td>74</td>\n",
       "      <td>Male</td>\n",
       "      <td>Good</td>\n",
       "      <td>Yes</td>\n",
       "    </tr>\n",
       "  </tbody>\n",
       "</table>\n",
       "</div>"
      ],
      "text/plain": [
       "   Age  Gender   Review Purchased\n",
       "0   30  Female  Average        No\n",
       "1   68  Female     Poor        No\n",
       "2   70  Female     Good        No\n",
       "3   72  Female     Good        No\n",
       "4   16  Female  Average        No\n",
       "5   31  Female  Average       Yes\n",
       "6   18    Male     Good       Yes\n",
       "7   60  Female     Poor       Yes\n",
       "8   65  Female  Average       Yes\n",
       "9   74    Male     Good       Yes"
      ]
     },
     "execution_count": 12,
     "metadata": {},
     "output_type": "execute_result"
    }
   ],
   "source": [
    "print(\"Before encoding:\")\n",
    "\n",
    "df.drop(columns = ['Education'], inplace = False)"
   ]
  },
  {
   "cell_type": "code",
   "execution_count": 18,
   "id": "ab8e61b9",
   "metadata": {},
   "outputs": [
    {
     "name": "stdout",
     "output_type": "stream",
     "text": [
      "After encoding:\n"
     ]
    },
    {
     "data": {
      "text/html": [
       "<div>\n",
       "<style scoped>\n",
       "    .dataframe tbody tr th:only-of-type {\n",
       "        vertical-align: middle;\n",
       "    }\n",
       "\n",
       "    .dataframe tbody tr th {\n",
       "        vertical-align: top;\n",
       "    }\n",
       "\n",
       "    .dataframe thead th {\n",
       "        text-align: right;\n",
       "    }\n",
       "</style>\n",
       "<table border=\"1\" class=\"dataframe\">\n",
       "  <thead>\n",
       "    <tr style=\"text-align: right;\">\n",
       "      <th></th>\n",
       "      <th>Age</th>\n",
       "      <th>Gender_Female</th>\n",
       "      <th>Gender_Male</th>\n",
       "      <th>Review</th>\n",
       "      <th>Purchased</th>\n",
       "    </tr>\n",
       "  </thead>\n",
       "  <tbody>\n",
       "    <tr>\n",
       "      <th>0</th>\n",
       "      <td>30</td>\n",
       "      <td>1</td>\n",
       "      <td>0</td>\n",
       "      <td>1</td>\n",
       "      <td>0</td>\n",
       "    </tr>\n",
       "    <tr>\n",
       "      <th>1</th>\n",
       "      <td>68</td>\n",
       "      <td>1</td>\n",
       "      <td>0</td>\n",
       "      <td>0</td>\n",
       "      <td>0</td>\n",
       "    </tr>\n",
       "    <tr>\n",
       "      <th>2</th>\n",
       "      <td>70</td>\n",
       "      <td>1</td>\n",
       "      <td>0</td>\n",
       "      <td>2</td>\n",
       "      <td>0</td>\n",
       "    </tr>\n",
       "    <tr>\n",
       "      <th>3</th>\n",
       "      <td>72</td>\n",
       "      <td>1</td>\n",
       "      <td>0</td>\n",
       "      <td>2</td>\n",
       "      <td>0</td>\n",
       "    </tr>\n",
       "    <tr>\n",
       "      <th>4</th>\n",
       "      <td>16</td>\n",
       "      <td>1</td>\n",
       "      <td>0</td>\n",
       "      <td>1</td>\n",
       "      <td>0</td>\n",
       "    </tr>\n",
       "    <tr>\n",
       "      <th>5</th>\n",
       "      <td>31</td>\n",
       "      <td>1</td>\n",
       "      <td>0</td>\n",
       "      <td>1</td>\n",
       "      <td>1</td>\n",
       "    </tr>\n",
       "    <tr>\n",
       "      <th>6</th>\n",
       "      <td>18</td>\n",
       "      <td>0</td>\n",
       "      <td>1</td>\n",
       "      <td>2</td>\n",
       "      <td>1</td>\n",
       "    </tr>\n",
       "    <tr>\n",
       "      <th>7</th>\n",
       "      <td>60</td>\n",
       "      <td>1</td>\n",
       "      <td>0</td>\n",
       "      <td>0</td>\n",
       "      <td>1</td>\n",
       "    </tr>\n",
       "    <tr>\n",
       "      <th>8</th>\n",
       "      <td>65</td>\n",
       "      <td>1</td>\n",
       "      <td>0</td>\n",
       "      <td>1</td>\n",
       "      <td>1</td>\n",
       "    </tr>\n",
       "    <tr>\n",
       "      <th>9</th>\n",
       "      <td>74</td>\n",
       "      <td>0</td>\n",
       "      <td>1</td>\n",
       "      <td>2</td>\n",
       "      <td>1</td>\n",
       "    </tr>\n",
       "  </tbody>\n",
       "</table>\n",
       "</div>"
      ],
      "text/plain": [
       "   Age  Gender_Female  Gender_Male  Review  Purchased\n",
       "0   30              1            0       1          0\n",
       "1   68              1            0       0          0\n",
       "2   70              1            0       2          0\n",
       "3   72              1            0       2          0\n",
       "4   16              1            0       1          0\n",
       "5   31              1            0       1          1\n",
       "6   18              0            1       2          1\n",
       "7   60              1            0       0          1\n",
       "8   65              1            0       1          1\n",
       "9   74              0            1       2          1"
      ]
     },
     "execution_count": 18,
     "metadata": {},
     "output_type": "execute_result"
    }
   ],
   "source": [
    "print(\"After encoding:\")\n",
    "\n",
    "\n",
    "pd.concat([df['Age'], nominal_gender_col_encoded, ordinal_review_col_encoded, y_encoded], axis=1).astype(int)"
   ]
  }
 ],
 "metadata": {
  "kernelspec": {
   "display_name": ".venv",
   "language": "python",
   "name": "python3"
  },
  "language_info": {
   "codemirror_mode": {
    "name": "ipython",
    "version": 3
   },
   "file_extension": ".py",
   "mimetype": "text/x-python",
   "name": "python",
   "nbconvert_exporter": "python",
   "pygments_lexer": "ipython3",
   "version": "3.12.0"
  }
 },
 "nbformat": 4,
 "nbformat_minor": 5
}
