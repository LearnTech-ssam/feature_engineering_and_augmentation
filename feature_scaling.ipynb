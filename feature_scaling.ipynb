{
 "cells": [
  {
   "cell_type": "markdown",
   "id": "221a9f71",
   "metadata": {},
   "source": [
    "# Load packages and create data"
   ]
  },
  {
   "cell_type": "code",
   "execution_count": 1,
   "id": "99c0a844",
   "metadata": {},
   "outputs": [],
   "source": [
    "## run this if you haven't already downloaded the packages\n",
    "\n",
    "## this download the packages from the requirements.txt file\n",
    "# pip install -r requirements.txt\n",
    "\n",
    "## this will download the latest version of the packages which may not match the versions in the requirements.txt file\n",
    "# pip install ipykernel matplotlib pandas scikit-learn"
   ]
  },
  {
   "cell_type": "code",
   "execution_count": 2,
   "id": "d25dbd94",
   "metadata": {},
   "outputs": [],
   "source": [
    "import pandas as pd\n",
    "import numpy as np\n",
    "import matplotlib.pyplot as plt\n",
    "from sklearn.preprocessing import MinMaxScaler, StandardScaler, RobustScaler"
   ]
  },
  {
   "cell_type": "code",
   "execution_count": 3,
   "id": "6b28c0cd",
   "metadata": {},
   "outputs": [
    {
     "name": "stdout",
     "output_type": "stream",
     "text": [
      "Fruit data:\n"
     ]
    },
    {
     "data": {
      "text/html": [
       "<div>\n",
       "<style scoped>\n",
       "    .dataframe tbody tr th:only-of-type {\n",
       "        vertical-align: middle;\n",
       "    }\n",
       "\n",
       "    .dataframe tbody tr th {\n",
       "        vertical-align: top;\n",
       "    }\n",
       "\n",
       "    .dataframe thead th {\n",
       "        text-align: right;\n",
       "    }\n",
       "</style>\n",
       "<table border=\"1\" class=\"dataframe\">\n",
       "  <thead>\n",
       "    <tr style=\"text-align: right;\">\n",
       "      <th></th>\n",
       "      <th>Weight</th>\n",
       "      <th>Price</th>\n",
       "    </tr>\n",
       "  </thead>\n",
       "  <tbody>\n",
       "    <tr>\n",
       "      <th>Orange</th>\n",
       "      <td>15</td>\n",
       "      <td>1</td>\n",
       "    </tr>\n",
       "    <tr>\n",
       "      <th>Apple</th>\n",
       "      <td>18</td>\n",
       "      <td>3</td>\n",
       "    </tr>\n",
       "    <tr>\n",
       "      <th>Banana</th>\n",
       "      <td>12</td>\n",
       "      <td>2</td>\n",
       "    </tr>\n",
       "    <tr>\n",
       "      <th>Grape</th>\n",
       "      <td>10</td>\n",
       "      <td>5</td>\n",
       "    </tr>\n",
       "  </tbody>\n",
       "</table>\n",
       "</div>"
      ],
      "text/plain": [
       "        Weight  Price\n",
       "Orange      15      1\n",
       "Apple       18      3\n",
       "Banana      12      2\n",
       "Grape       10      5"
      ]
     },
     "execution_count": 3,
     "metadata": {},
     "output_type": "execute_result"
    }
   ],
   "source": [
    "data_fruit = pd.DataFrame({'Weight': [15, 18, 12,10],\n",
    "                           'Price': [1,3,2,5]},\n",
    "                           index = ['Orange','Apple','Banana','Grape'])\n",
    "\n",
    "print(\"Fruit data:\")\n",
    "data_fruit.head()"
   ]
  },
  {
   "cell_type": "code",
   "execution_count": 4,
   "id": "0472cb6e",
   "metadata": {},
   "outputs": [
    {
     "name": "stdout",
     "output_type": "stream",
     "text": [
      "Iris data: 151 rows\n"
     ]
    },
    {
     "data": {
      "text/html": [
       "<div>\n",
       "<style scoped>\n",
       "    .dataframe tbody tr th:only-of-type {\n",
       "        vertical-align: middle;\n",
       "    }\n",
       "\n",
       "    .dataframe tbody tr th {\n",
       "        vertical-align: top;\n",
       "    }\n",
       "\n",
       "    .dataframe thead th {\n",
       "        text-align: right;\n",
       "    }\n",
       "</style>\n",
       "<table border=\"1\" class=\"dataframe\">\n",
       "  <thead>\n",
       "    <tr style=\"text-align: right;\">\n",
       "      <th></th>\n",
       "      <th>SepalLengthCm</th>\n",
       "      <th>SepalWidthCm</th>\n",
       "    </tr>\n",
       "  </thead>\n",
       "  <tbody>\n",
       "    <tr>\n",
       "      <th>0</th>\n",
       "      <td>5.1</td>\n",
       "      <td>3.5</td>\n",
       "    </tr>\n",
       "    <tr>\n",
       "      <th>1</th>\n",
       "      <td>4.9</td>\n",
       "      <td>3.0</td>\n",
       "    </tr>\n",
       "    <tr>\n",
       "      <th>2</th>\n",
       "      <td>4.7</td>\n",
       "      <td>3.2</td>\n",
       "    </tr>\n",
       "    <tr>\n",
       "      <th>3</th>\n",
       "      <td>4.6</td>\n",
       "      <td>3.1</td>\n",
       "    </tr>\n",
       "    <tr>\n",
       "      <th>4</th>\n",
       "      <td>5.0</td>\n",
       "      <td>3.6</td>\n",
       "    </tr>\n",
       "  </tbody>\n",
       "</table>\n",
       "</div>"
      ],
      "text/plain": [
       "   SepalLengthCm  SepalWidthCm\n",
       "0            5.1           3.5\n",
       "1            4.9           3.0\n",
       "2            4.7           3.2\n",
       "3            4.6           3.1\n",
       "4            5.0           3.6"
      ]
     },
     "execution_count": 4,
     "metadata": {},
     "output_type": "execute_result"
    }
   ],
   "source": [
    "data_iris = pd.read_csv(\"Iris.csv\", usecols=['SepalLengthCm', 'SepalWidthCm']) # We only want sepal features\n",
    "\n",
    "# include this line to add an outlier to the data\n",
    "# This will add a row with SepalLengthCm = 15 and SepalWidthCm = 15\n",
    "data_iris.loc[-1] = [13, 15]\n",
    "\n",
    "print(f\"Iris data: {len(data_iris)} rows\")\n",
    "data_iris.head()"
   ]
  },
  {
   "cell_type": "markdown",
   "id": "e7d4adb2",
   "metadata": {},
   "source": [
    "# Feature scaling\n",
    "\n",
    "Sources of inspiration:\n",
    "- https://scikit-learn.org/stable/modules/preprocessing.html\n",
    "- https://www.datacamp.com/tutorial/normalization-vs-standardization\n",
    "- https://www.kaggle.com/code/mysarahmadbhat/all-about-feature-scaling"
   ]
  },
  {
   "cell_type": "markdown",
   "id": "185a319d",
   "metadata": {},
   "source": [
    "## MinMaxScaler\n",
    "\n",
    "$$\n",
    "x_{\\text{MinMaxScaled}} = \\frac{x - x_{\\text{min}}}{x_{\\text{max}} - x_{\\text{min}}}\n",
    "$$\n",
    "\n",
    "Resource: https://scikit-learn.org/stable/modules/generated/sklearn.preprocessing.MinMaxScaler.html#sklearn.preprocessing.MinMaxScaler\n",
    "\n",
    "### ! QUESTIONS - MinMaxScaler\n",
    "- What does this scaler do?\n",
    "- What is the range of the data after using the scaler?\n",
    "- What other properties does the data set have after using this scaler?\n",
    "- When would be appropriate to use this scaler instead of another scaling method?"
   ]
  },
  {
   "cell_type": "markdown",
   "id": "71ac3acf",
   "metadata": {},
   "source": [
    "#### Example of MinMaxScaler on fruit data"
   ]
  },
  {
   "cell_type": "code",
   "execution_count": 5,
   "id": "3761c484",
   "metadata": {},
   "outputs": [
    {
     "name": "stdout",
     "output_type": "stream",
     "text": [
      "Raw data before scaling:\n"
     ]
    },
    {
     "data": {
      "text/html": [
       "<div>\n",
       "<style scoped>\n",
       "    .dataframe tbody tr th:only-of-type {\n",
       "        vertical-align: middle;\n",
       "    }\n",
       "\n",
       "    .dataframe tbody tr th {\n",
       "        vertical-align: top;\n",
       "    }\n",
       "\n",
       "    .dataframe thead th {\n",
       "        text-align: right;\n",
       "    }\n",
       "</style>\n",
       "<table border=\"1\" class=\"dataframe\">\n",
       "  <thead>\n",
       "    <tr style=\"text-align: right;\">\n",
       "      <th></th>\n",
       "      <th>Weight</th>\n",
       "      <th>Price</th>\n",
       "    </tr>\n",
       "  </thead>\n",
       "  <tbody>\n",
       "    <tr>\n",
       "      <th>Orange</th>\n",
       "      <td>15</td>\n",
       "      <td>1</td>\n",
       "    </tr>\n",
       "    <tr>\n",
       "      <th>Apple</th>\n",
       "      <td>18</td>\n",
       "      <td>3</td>\n",
       "    </tr>\n",
       "    <tr>\n",
       "      <th>Banana</th>\n",
       "      <td>12</td>\n",
       "      <td>2</td>\n",
       "    </tr>\n",
       "    <tr>\n",
       "      <th>Grape</th>\n",
       "      <td>10</td>\n",
       "      <td>5</td>\n",
       "    </tr>\n",
       "  </tbody>\n",
       "</table>\n",
       "</div>"
      ],
      "text/plain": [
       "        Weight  Price\n",
       "Orange      15      1\n",
       "Apple       18      3\n",
       "Banana      12      2\n",
       "Grape       10      5"
      ]
     },
     "execution_count": 5,
     "metadata": {},
     "output_type": "execute_result"
    }
   ],
   "source": [
    "print(\"\"\"Raw data before scaling:\"\"\")\n",
    "\n",
    "data_fruit"
   ]
  },
  {
   "cell_type": "code",
   "execution_count": 6,
   "id": "5133abe7",
   "metadata": {},
   "outputs": [
    {
     "name": "stdout",
     "output_type": "stream",
     "text": [
      "After scaling: MinMaxScaler array output\n"
     ]
    },
    {
     "data": {
      "text/plain": [
       "array([[0.625, 0.   ],\n",
       "       [1.   , 0.5  ],\n",
       "       [0.25 , 0.25 ],\n",
       "       [0.   , 1.   ]])"
      ]
     },
     "execution_count": 6,
     "metadata": {},
     "output_type": "execute_result"
    }
   ],
   "source": [
    "scale_fruit_minmax = MinMaxScaler()\n",
    "\n",
    "data_fruit_minmaxscale_array = scale_fruit_minmax.fit_transform(data_fruit)\n",
    "print(\"\"\"After scaling: MinMaxScaler array output\"\"\")\n",
    "\n",
    "data_fruit_minmaxscale_array"
   ]
  },
  {
   "cell_type": "code",
   "execution_count": 7,
   "id": "c9bacc94",
   "metadata": {},
   "outputs": [
    {
     "name": "stdout",
     "output_type": "stream",
     "text": [
      "After scaling: MinMaxScaler dataframe output\n"
     ]
    },
    {
     "data": {
      "text/html": [
       "<div>\n",
       "<style scoped>\n",
       "    .dataframe tbody tr th:only-of-type {\n",
       "        vertical-align: middle;\n",
       "    }\n",
       "\n",
       "    .dataframe tbody tr th {\n",
       "        vertical-align: top;\n",
       "    }\n",
       "\n",
       "    .dataframe thead th {\n",
       "        text-align: right;\n",
       "    }\n",
       "</style>\n",
       "<table border=\"1\" class=\"dataframe\">\n",
       "  <thead>\n",
       "    <tr style=\"text-align: right;\">\n",
       "      <th></th>\n",
       "      <th>Weight</th>\n",
       "      <th>Price</th>\n",
       "    </tr>\n",
       "  </thead>\n",
       "  <tbody>\n",
       "    <tr>\n",
       "      <th>Orange</th>\n",
       "      <td>0.625</td>\n",
       "      <td>0.00</td>\n",
       "    </tr>\n",
       "    <tr>\n",
       "      <th>Apple</th>\n",
       "      <td>1.000</td>\n",
       "      <td>0.50</td>\n",
       "    </tr>\n",
       "    <tr>\n",
       "      <th>Banana</th>\n",
       "      <td>0.250</td>\n",
       "      <td>0.25</td>\n",
       "    </tr>\n",
       "    <tr>\n",
       "      <th>Grape</th>\n",
       "      <td>0.000</td>\n",
       "      <td>1.00</td>\n",
       "    </tr>\n",
       "  </tbody>\n",
       "</table>\n",
       "</div>"
      ],
      "text/plain": [
       "        Weight  Price\n",
       "Orange   0.625   0.00\n",
       "Apple    1.000   0.50\n",
       "Banana   0.250   0.25\n",
       "Grape    0.000   1.00"
      ]
     },
     "execution_count": 7,
     "metadata": {},
     "output_type": "execute_result"
    }
   ],
   "source": [
    "data_fruit_minmaxscale_df = pd.DataFrame(data_fruit_minmaxscale_array, \n",
    "                                 columns=['Weight','Price'],\n",
    "                                 index = ['Orange','Apple','Banana','Grape'])\n",
    "\n",
    "\n",
    "print(\"\"\"After scaling: MinMaxScaler dataframe output\"\"\")\n",
    "data_fruit_minmaxscale_df"
   ]
  },
  {
   "cell_type": "code",
   "execution_count": 8,
   "id": "7111c800",
   "metadata": {},
   "outputs": [
    {
     "data": {
      "image/png": "[encoded data removed]",
      "text/plain": [
       "<Figure size 640x480 with 1 Axes>"
      ]
     },
     "metadata": {},
     "output_type": "display_data"
    }
   ],
   "source": [
    "# Plot the original data and the scaled data\n",
    "\n",
    "ax = data_fruit.plot.scatter(x='Weight',\n",
    "                                      y='Price',\n",
    "                                      color=['red','green','blue','yellow'], \n",
    "                                      marker = '*',\n",
    "                                      s=80,\n",
    "                                      label='Before scaling',\n",
    "                                      title=\"MinMaxScaler on fruit data\"\n",
    "                                      \"\");\n",
    "\n",
    "data_fruit_minmaxscale_df.plot.scatter(x='Weight',\n",
    "                                       y='Price',\n",
    "                                       color=['red','green','blue','yellow'],\n",
    "                                       marker = 'o',\n",
    "                                       s=60,\n",
    "                                       label='After scaling',\n",
    "                                       ax = ax);\n",
    "\n",
    "plt.axhline(0, color='black',alpha=0.2)\n",
    "plt.axvline(0, color='black',alpha=0.2);"
   ]
  },
  {
   "cell_type": "markdown",
   "id": "7d4e393a",
   "metadata": {},
   "source": [
    "#### Example of MinMaxScaler on iris data"
   ]
  },
  {
   "cell_type": "code",
   "execution_count": 9,
   "id": "0aa8e6fd",
   "metadata": {},
   "outputs": [
    {
     "data": {
      "image/png": "[encoded data removed]",
      "text/plain": [
       "<Figure size 640x480 with 1 Axes>"
      ]
     },
     "metadata": {},
     "output_type": "display_data"
    }
   ],
   "source": [
    "# Scale the data\n",
    "scale_iris_minmax = MinMaxScaler()\n",
    "data_iris_minmaxscale_array = scale_iris_minmax.fit_transform(data_iris)\n",
    "\n",
    "# Store scaled data in a DataFrame\n",
    "data_iris_minmaxscale_df = pd.DataFrame(data_iris_minmaxscale_array,\n",
    "                                        columns=data_iris.columns)\n",
    "\n",
    "# Plot the original data and the scaled data\n",
    "ax = data_iris.plot.scatter(x=\"SepalLengthCm\",\n",
    "                            y=\"SepalWidthCm\",\n",
    "                            marker=\"*\",\n",
    "                            label=\"Before scaling\",\n",
    "                            color=\"red\",\n",
    "                            title=\"MinMaxScaler on iris data\",)\n",
    "\n",
    "data_iris_minmaxscale_df.plot.scatter(x=\"SepalLengthCm\",\n",
    "                                      y=\"SepalWidthCm\",\n",
    "                                      marker=\"+\",\n",
    "                                      label=\"After scaling\",\n",
    "                                      ax=ax)\n",
    "\n",
    "plt.axhline(0, color='black',alpha=0.2)\n",
    "plt.axvline(0, color='black',alpha=0.2);"
   ]
  },
  {
   "cell_type": "markdown",
   "id": "7bb074fc",
   "metadata": {},
   "source": [
    "## RobustScaler\n",
    "\n",
    "$$\n",
    "x_{\\text{RobustScaled}} = \\frac{x - \\text{median}(x)}{\\text{percentile}_{75}(x) - \\text{percentile}_{25}(x)}\n",
    "$$\n",
    "\n",
    "Resource: https://scikit-learn.org/stable/modules/generated/sklearn.preprocessing.RobustScaler.html\n",
    "\n",
    "### ! QUESTIONS - RobustScaler\n",
    "- What does this scaler do?\n",
    "- What is the range of the data after using the scaler?\n",
    "- What other properties does the data set have after using this scaler?\n",
    "- When would be appropriate to use this scaler instead of another scaling method?"
   ]
  },
  {
   "cell_type": "markdown",
   "id": "d152b337",
   "metadata": {},
   "source": [
    "#### Example of RobustScaler on fruit data"
   ]
  },
  {
   "cell_type": "code",
   "execution_count": 10,
   "id": "211c60a0",
   "metadata": {},
   "outputs": [
    {
     "name": "stdout",
     "output_type": "stream",
     "text": [
      "Raw data before scaling:\n"
     ]
    },
    {
     "data": {
      "text/html": [
       "<div>\n",
       "<style scoped>\n",
       "    .dataframe tbody tr th:only-of-type {\n",
       "        vertical-align: middle;\n",
       "    }\n",
       "\n",
       "    .dataframe tbody tr th {\n",
       "        vertical-align: top;\n",
       "    }\n",
       "\n",
       "    .dataframe thead th {\n",
       "        text-align: right;\n",
       "    }\n",
       "</style>\n",
       "<table border=\"1\" class=\"dataframe\">\n",
       "  <thead>\n",
       "    <tr style=\"text-align: right;\">\n",
       "      <th></th>\n",
       "      <th>Weight</th>\n",
       "      <th>Price</th>\n",
       "    </tr>\n",
       "  </thead>\n",
       "  <tbody>\n",
       "    <tr>\n",
       "      <th>Orange</th>\n",
       "      <td>15</td>\n",
       "      <td>1</td>\n",
       "    </tr>\n",
       "    <tr>\n",
       "      <th>Apple</th>\n",
       "      <td>18</td>\n",
       "      <td>3</td>\n",
       "    </tr>\n",
       "    <tr>\n",
       "      <th>Banana</th>\n",
       "      <td>12</td>\n",
       "      <td>2</td>\n",
       "    </tr>\n",
       "    <tr>\n",
       "      <th>Grape</th>\n",
       "      <td>10</td>\n",
       "      <td>5</td>\n",
       "    </tr>\n",
       "  </tbody>\n",
       "</table>\n",
       "</div>"
      ],
      "text/plain": [
       "        Weight  Price\n",
       "Orange      15      1\n",
       "Apple       18      3\n",
       "Banana      12      2\n",
       "Grape       10      5"
      ]
     },
     "execution_count": 10,
     "metadata": {},
     "output_type": "execute_result"
    }
   ],
   "source": [
    "print(\"\"\"Raw data before scaling:\"\"\")\n",
    "\n",
    "data_fruit"
   ]
  },
  {
   "cell_type": "code",
   "execution_count": 11,
   "id": "61055ef8",
   "metadata": {},
   "outputs": [
    {
     "name": "stdout",
     "output_type": "stream",
     "text": [
      "After scaling: RobustScaler array output\n"
     ]
    },
    {
     "data": {
      "text/plain": [
       "array([[ 0.35294118, -0.85714286],\n",
       "       [ 1.05882353,  0.28571429],\n",
       "       [-0.35294118, -0.28571429],\n",
       "       [-0.82352941,  1.42857143]])"
      ]
     },
     "execution_count": 11,
     "metadata": {},
     "output_type": "execute_result"
    }
   ],
   "source": [
    "scale_fruit_robust = RobustScaler()\n",
    "\n",
    "data_fruit_robustscale_array = scale_fruit_robust.fit_transform(data_fruit)\n",
    "print(\"\"\"After scaling: RobustScaler array output\"\"\")\n",
    "\n",
    "data_fruit_robustscale_array"
   ]
  },
  {
   "cell_type": "code",
   "execution_count": 12,
   "id": "e6370d82",
   "metadata": {},
   "outputs": [
    {
     "name": "stdout",
     "output_type": "stream",
     "text": [
      "After scaling: RobustScaler dataframe output\n"
     ]
    },
    {
     "data": {
      "text/html": [
       "<div>\n",
       "<style scoped>\n",
       "    .dataframe tbody tr th:only-of-type {\n",
       "        vertical-align: middle;\n",
       "    }\n",
       "\n",
       "    .dataframe tbody tr th {\n",
       "        vertical-align: top;\n",
       "    }\n",
       "\n",
       "    .dataframe thead th {\n",
       "        text-align: right;\n",
       "    }\n",
       "</style>\n",
       "<table border=\"1\" class=\"dataframe\">\n",
       "  <thead>\n",
       "    <tr style=\"text-align: right;\">\n",
       "      <th></th>\n",
       "      <th>Weight</th>\n",
       "      <th>Price</th>\n",
       "    </tr>\n",
       "  </thead>\n",
       "  <tbody>\n",
       "    <tr>\n",
       "      <th>Orange</th>\n",
       "      <td>0.352941</td>\n",
       "      <td>-0.857143</td>\n",
       "    </tr>\n",
       "    <tr>\n",
       "      <th>Apple</th>\n",
       "      <td>1.058824</td>\n",
       "      <td>0.285714</td>\n",
       "    </tr>\n",
       "    <tr>\n",
       "      <th>Banana</th>\n",
       "      <td>-0.352941</td>\n",
       "      <td>-0.285714</td>\n",
       "    </tr>\n",
       "    <tr>\n",
       "      <th>Grape</th>\n",
       "      <td>-0.823529</td>\n",
       "      <td>1.428571</td>\n",
       "    </tr>\n",
       "  </tbody>\n",
       "</table>\n",
       "</div>"
      ],
      "text/plain": [
       "          Weight     Price\n",
       "Orange  0.352941 -0.857143\n",
       "Apple   1.058824  0.285714\n",
       "Banana -0.352941 -0.285714\n",
       "Grape  -0.823529  1.428571"
      ]
     },
     "execution_count": 12,
     "metadata": {},
     "output_type": "execute_result"
    }
   ],
   "source": [
    "data_fruit_robustscale_df = pd.DataFrame(data_fruit_robustscale_array, \n",
    "                                 columns=['Weight','Price'],\n",
    "                                 index = ['Orange','Apple','Banana','Grape'])\n",
    "\n",
    "\n",
    "print(\"\"\"After scaling: RobustScaler dataframe output\"\"\")\n",
    "data_fruit_robustscale_df"
   ]
  },
  {
   "cell_type": "code",
   "execution_count": 13,
   "id": "3e4ed6a0",
   "metadata": {},
   "outputs": [
    {
     "data": {
      "image/png": "[encoded data removed]",
      "text/plain": [
       "<Figure size 640x480 with 1 Axes>"
      ]
     },
     "metadata": {},
     "output_type": "display_data"
    }
   ],
   "source": [
    "# Plot the original data and the scaled data\n",
    "\n",
    "ax = data_fruit.plot.scatter(x='Weight',\n",
    "                                      y='Price',\n",
    "                                      color=['red','green','blue','yellow'], \n",
    "                                      marker = '*',\n",
    "                                      s=80,\n",
    "                                      label='Before scaling',\n",
    "                                      title=\"RobustScaler on fruit data\"\n",
    "                                      \"\");\n",
    "\n",
    "data_fruit_robustscale_df.plot.scatter(x='Weight',\n",
    "                                       y='Price',\n",
    "                                       color=['red','green','blue','yellow'],\n",
    "                                       marker = 'o',\n",
    "                                       s=60,\n",
    "                                       label='After scaling',\n",
    "                                       ax = ax);\n",
    "\n",
    "plt.axhline(0, color='black',alpha=0.2)\n",
    "plt.axvline(0, color='black',alpha=0.2);"
   ]
  },
  {
   "cell_type": "markdown",
   "id": "0c99ebe8",
   "metadata": {},
   "source": [
    "#### Example of RobustScaler on iris data"
   ]
  },
  {
   "cell_type": "code",
   "execution_count": 14,
   "id": "c156f604",
   "metadata": {},
   "outputs": [
    {
     "data": {
      "image/png": "[encoded data removed]",
      "text/plain": [
       "<Figure size 640x480 with 1 Axes>"
      ]
     },
     "metadata": {},
     "output_type": "display_data"
    }
   ],
   "source": [
    "# Scale the data\n",
    "scale_iris_robust = RobustScaler()\n",
    "data_iris_robustscale_array = scale_iris_robust.fit_transform(data_iris)\n",
    "\n",
    "# Store scaled data in a DataFrame\n",
    "data_iris_robustscale_df = pd.DataFrame(data_iris_robustscale_array,\n",
    "                                        columns=data_iris.columns)\n",
    "\n",
    "# Plot the original data and the scaled data\n",
    "ax = data_iris.plot.scatter(x=\"SepalLengthCm\",\n",
    "                            y=\"SepalWidthCm\",\n",
    "                            marker=\"*\",\n",
    "                            label=\"Before scaling\",\n",
    "                            color=\"red\",\n",
    "                            title=\"RobustScaler on iris data\",)\n",
    "\n",
    "data_iris_robustscale_df.plot.scatter(x=\"SepalLengthCm\",\n",
    "                                      y=\"SepalWidthCm\",\n",
    "                                      marker=\"+\",\n",
    "                                      label=\"After scaling\",\n",
    "                                      ax=ax)\n",
    "\n",
    "plt.axhline(0, color='black',alpha=0.2)\n",
    "plt.axvline(0, color='black',alpha=0.2);"
   ]
  },
  {
   "cell_type": "markdown",
   "id": "9a92d7e4",
   "metadata": {},
   "source": [
    "## StandardScaler\n",
    "\n",
    "$$\n",
    "x_{\\text{StandardScaler}} = \\frac{x - mean}{standard\\ deviation}\n",
    "$$\n",
    "\n",
    "Resource: https://scikit-learn.org/stable/modules/generated/sklearn.preprocessing.StandardScaler.html\n",
    "\n",
    "### ! QUESTIONS - StandardScaler\n",
    "- What does this scaler do?\n",
    "- What is the range of the data after using the scaler?\n",
    "- What other properties does the data set have after using this scaler?\n",
    "- When would be appropriate to use this scaler instead of another scaling method?"
   ]
  },
  {
   "cell_type": "markdown",
   "id": "bc1088ea",
   "metadata": {},
   "source": [
    "#### Example of StandardScaler on fruit data"
   ]
  },
  {
   "cell_type": "code",
   "execution_count": 15,
   "id": "ece81edf",
   "metadata": {},
   "outputs": [
    {
     "name": "stdout",
     "output_type": "stream",
     "text": [
      "Raw data before scaling:\n"
     ]
    },
    {
     "data": {
      "text/html": [
       "<div>\n",
       "<style scoped>\n",
       "    .dataframe tbody tr th:only-of-type {\n",
       "        vertical-align: middle;\n",
       "    }\n",
       "\n",
       "    .dataframe tbody tr th {\n",
       "        vertical-align: top;\n",
       "    }\n",
       "\n",
       "    .dataframe thead th {\n",
       "        text-align: right;\n",
       "    }\n",
       "</style>\n",
       "<table border=\"1\" class=\"dataframe\">\n",
       "  <thead>\n",
       "    <tr style=\"text-align: right;\">\n",
       "      <th></th>\n",
       "      <th>Weight</th>\n",
       "      <th>Price</th>\n",
       "    </tr>\n",
       "  </thead>\n",
       "  <tbody>\n",
       "    <tr>\n",
       "      <th>Orange</th>\n",
       "      <td>15</td>\n",
       "      <td>1</td>\n",
       "    </tr>\n",
       "    <tr>\n",
       "      <th>Apple</th>\n",
       "      <td>18</td>\n",
       "      <td>3</td>\n",
       "    </tr>\n",
       "    <tr>\n",
       "      <th>Banana</th>\n",
       "      <td>12</td>\n",
       "      <td>2</td>\n",
       "    </tr>\n",
       "    <tr>\n",
       "      <th>Grape</th>\n",
       "      <td>10</td>\n",
       "      <td>5</td>\n",
       "    </tr>\n",
       "  </tbody>\n",
       "</table>\n",
       "</div>"
      ],
      "text/plain": [
       "        Weight  Price\n",
       "Orange      15      1\n",
       "Apple       18      3\n",
       "Banana      12      2\n",
       "Grape       10      5"
      ]
     },
     "execution_count": 15,
     "metadata": {},
     "output_type": "execute_result"
    }
   ],
   "source": [
    "print(\"\"\"Raw data before scaling:\"\"\")\n",
    "\n",
    "data_fruit"
   ]
  },
  {
   "cell_type": "code",
   "execution_count": 16,
   "id": "1992c70a",
   "metadata": {},
   "outputs": [
    {
     "name": "stdout",
     "output_type": "stream",
     "text": [
      "After scaling: StandardScaler array output\n"
     ]
    },
    {
     "data": {
      "text/plain": [
       "array([[ 0.41239305, -1.18321596],\n",
       "       [ 1.40213637,  0.16903085],\n",
       "       [-0.57735027, -0.50709255],\n",
       "       [-1.23717915,  1.52127766]])"
      ]
     },
     "execution_count": 16,
     "metadata": {},
     "output_type": "execute_result"
    }
   ],
   "source": [
    "scale_fruit_standard = StandardScaler()\n",
    "\n",
    "data_fruit_standardscale_array = scale_fruit_standard.fit_transform(data_fruit)\n",
    "print(\"\"\"After scaling: StandardScaler array output\"\"\")\n",
    "\n",
    "data_fruit_standardscale_array"
   ]
  },
  {
   "cell_type": "code",
   "execution_count": 17,
   "id": "9304faa8",
   "metadata": {},
   "outputs": [
    {
     "name": "stdout",
     "output_type": "stream",
     "text": [
      "After scaling: StandardScaler dataframe output\n"
     ]
    },
    {
     "data": {
      "text/html": [
       "<div>\n",
       "<style scoped>\n",
       "    .dataframe tbody tr th:only-of-type {\n",
       "        vertical-align: middle;\n",
       "    }\n",
       "\n",
       "    .dataframe tbody tr th {\n",
       "        vertical-align: top;\n",
       "    }\n",
       "\n",
       "    .dataframe thead th {\n",
       "        text-align: right;\n",
       "    }\n",
       "</style>\n",
       "<table border=\"1\" class=\"dataframe\">\n",
       "  <thead>\n",
       "    <tr style=\"text-align: right;\">\n",
       "      <th></th>\n",
       "      <th>Weight</th>\n",
       "      <th>Price</th>\n",
       "    </tr>\n",
       "  </thead>\n",
       "  <tbody>\n",
       "    <tr>\n",
       "      <th>Orange</th>\n",
       "      <td>0.412393</td>\n",
       "      <td>-1.183216</td>\n",
       "    </tr>\n",
       "    <tr>\n",
       "      <th>Apple</th>\n",
       "      <td>1.402136</td>\n",
       "      <td>0.169031</td>\n",
       "    </tr>\n",
       "    <tr>\n",
       "      <th>Banana</th>\n",
       "      <td>-0.577350</td>\n",
       "      <td>-0.507093</td>\n",
       "    </tr>\n",
       "    <tr>\n",
       "      <th>Grape</th>\n",
       "      <td>-1.237179</td>\n",
       "      <td>1.521278</td>\n",
       "    </tr>\n",
       "  </tbody>\n",
       "</table>\n",
       "</div>"
      ],
      "text/plain": [
       "          Weight     Price\n",
       "Orange  0.412393 -1.183216\n",
       "Apple   1.402136  0.169031\n",
       "Banana -0.577350 -0.507093\n",
       "Grape  -1.237179  1.521278"
      ]
     },
     "execution_count": 17,
     "metadata": {},
     "output_type": "execute_result"
    }
   ],
   "source": [
    "data_fruit_standardscale_df = pd.DataFrame(data_fruit_standardscale_array, \n",
    "                                 columns=['Weight','Price'],\n",
    "                                 index = ['Orange','Apple','Banana','Grape'])\n",
    "\n",
    "\n",
    "print(\"\"\"After scaling: StandardScaler dataframe output\"\"\")\n",
    "data_fruit_standardscale_df"
   ]
  },
  {
   "cell_type": "code",
   "execution_count": 18,
   "id": "6315219d",
   "metadata": {},
   "outputs": [
    {
     "data": {
      "image/png": "[encoded data removed]",
      "text/plain": [
       "<Figure size 640x480 with 1 Axes>"
      ]
     },
     "metadata": {},
     "output_type": "display_data"
    }
   ],
   "source": [
    "# Plot the original data and the scaled data\n",
    "\n",
    "ax = data_fruit.plot.scatter(x='Weight',\n",
    "                                      y='Price',\n",
    "                                      color=['red','green','blue','yellow'], \n",
    "                                      marker = '*',\n",
    "                                      s=80,\n",
    "                                      label='Before scaling',\n",
    "                                      title=\"StandardScaler on fruit data\"\n",
    "                                      \"\");\n",
    "\n",
    "data_fruit_standardscale_df.plot.scatter(x='Weight',\n",
    "                                       y='Price',\n",
    "                                       color=['red','green','blue','yellow'],\n",
    "                                       marker = 'o',\n",
    "                                       s=60,\n",
    "                                       label='After scaling',\n",
    "                                       ax = ax);\n",
    "\n",
    "plt.axhline(0, color='black',alpha=0.2)\n",
    "plt.axvline(0, color='black',alpha=0.2);"
   ]
  },
  {
   "cell_type": "markdown",
   "id": "30aceabb",
   "metadata": {},
   "source": [
    "#### Example of StandardScaler on iris data"
   ]
  },
  {
   "cell_type": "code",
   "execution_count": 19,
   "id": "735c00b9",
   "metadata": {},
   "outputs": [
    {
     "data": {
      "image/png": "[encoded data removed]",
      "text/plain": [
       "<Figure size 640x480 with 1 Axes>"
      ]
     },
     "metadata": {},
     "output_type": "display_data"
    }
   ],
   "source": [
    "# Scale the data\n",
    "scale_iris_standard = StandardScaler()\n",
    "data_iris_standardscale_array = scale_iris_standard.fit_transform(data_iris)\n",
    "\n",
    "# Store scaled data in a DataFrame\n",
    "data_iris_standardscale_df = pd.DataFrame(data_iris_standardscale_array,\n",
    "                                        columns=data_iris.columns)\n",
    "\n",
    "# Plot the original data and the scaled data\n",
    "ax = data_iris.plot.scatter(x=\"SepalLengthCm\",\n",
    "                            y=\"SepalWidthCm\",\n",
    "                            marker=\"*\",\n",
    "                            label=\"Before scaling\",\n",
    "                            color=\"red\",\n",
    "                            title=\"StandardScaler on iris data\",)\n",
    "\n",
    "data_iris_standardscale_df.plot.scatter(x=\"SepalLengthCm\",\n",
    "                                      y=\"SepalWidthCm\",\n",
    "                                      marker=\"+\",\n",
    "                                      label=\"After scaling\",\n",
    "                                      ax=ax)\n",
    "\n",
    "plt.axhline(0, color='black',alpha=0.2)\n",
    "plt.axvline(0, color='black',alpha=0.2);"
   ]
  }
 ],
 "metadata": {
  "kernelspec": {
   "display_name": ".venv",
   "language": "python",
   "name": "python3"
  },
  "language_info": {
   "codemirror_mode": {
    "name": "ipython",
    "version": 3
   },
   "file_extension": ".py",
   "mimetype": "text/x-python",
   "name": "python",
   "nbconvert_exporter": "python",
   "pygments_lexer": "ipython3",
   "version": "3.12.0"
  }
 },
 "nbformat": 4,
 "nbformat_minor": 5
}
